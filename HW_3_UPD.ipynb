{
 "cells": [
  {
   "cell_type": "markdown",
   "metadata": {},
   "source": [
    "# Задание 1"
   ]
  },
  {
   "cell_type": "code",
   "execution_count": 1,
   "metadata": {},
   "outputs": [
    {
     "name": "stdout",
     "output_type": "stream",
     "text": [
      "[[213, 213, 213, 15, 213], [54, 54, 119, 119, 119], [213, 98, 98, 35]]\n"
     ]
    }
   ],
   "source": [
    "ids = {'user1': [213, 213, 213, 15, 213],\n",
    "'user2': [54, 54, 119, 119, 119],\n",
    "'user3': [213, 98, 98, 35]}\n",
    "r = ids.values()\n",
    "t = list(r)\n",
    "print(t)"
   ]
  },
  {
   "cell_type": "code",
   "execution_count": 2,
   "metadata": {},
   "outputs": [
    {
     "name": "stdout",
     "output_type": "stream",
     "text": [
      "{98, 35, 15, 213, 54, 119}\n"
     ]
    }
   ],
   "source": [
    "p = []\n",
    "for h in range(len(t)):\n",
    "    for k in range(len(t[h])):\n",
    "        p.append(t[h][k])\n",
    "print(set(p))"
   ]
  },
  {
   "cell_type": "code",
   "execution_count": 3,
   "metadata": {},
   "outputs": [
    {
     "data": {
      "text/plain": [
       "{15, 35, 54, 98, 119, 213}"
      ]
     },
     "execution_count": 3,
     "metadata": {},
     "output_type": "execute_result"
    }
   ],
   "source": [
    "# Уже посмотрела вебинар от 08.02.2021, поэтому знаю коротное решение)\n",
    "set(sum(list(ids.values()),[]))"
   ]
  },
  {
   "cell_type": "markdown",
   "metadata": {},
   "source": [
    "# Задание 2"
   ]
  },
  {
   "cell_type": "code",
   "execution_count": 59,
   "metadata": {},
   "outputs": [],
   "source": [
    "queries = [\n",
    "'смотреть сериалы онлайн',\n",
    "'новости спорта',\n",
    "'афиша кино',\n",
    "'курс доллара',\n",
    "'сериалы этим летом',\n",
    "'курс по питону',\n",
    "'сериалы про спорт',\n",
    "]"
   ]
  },
  {
   "cell_type": "code",
   "execution_count": 60,
   "metadata": {},
   "outputs": [
    {
     "name": "stdout",
     "output_type": "stream",
     "text": [
      "[3, 2, 2, 2, 3, 3, 3]\n"
     ]
    }
   ],
   "source": [
    "# Update:делаем список, каждый элемент которого считает количество слов в данных\n",
    "my_list = []\n",
    "for i in queries:\n",
    "    my_list.append((len(i.split())))\n",
    "print(my_list)"
   ]
  },
  {
   "cell_type": "code",
   "execution_count": 61,
   "metadata": {},
   "outputs": [
    {
     "data": {
      "text/plain": [
       "{2, 3}"
      ]
     },
     "execution_count": 61,
     "metadata": {},
     "output_type": "execute_result"
    }
   ],
   "source": [
    "# делаем множество, для определения уникальных значений списка\n",
    "set(my_list)"
   ]
  },
  {
   "cell_type": "code",
   "execution_count": 62,
   "metadata": {},
   "outputs": [
    {
     "data": {
      "text/plain": [
       "{2: 3, 3: 4}"
      ]
     },
     "execution_count": 62,
     "metadata": {},
     "output_type": "execute_result"
    }
   ],
   "source": [
    "# делаем словарь, в котором ключ - количество слов в элементе, значение - количество таких элементов в списке\n",
    "my_dict = {}\n",
    "for g in set(my_list):\n",
    "    my_dict[g] = my_list.count(g)\n",
    "my_dict"
   ]
  },
  {
   "cell_type": "code",
   "execution_count": 63,
   "metadata": {},
   "outputs": [
    {
     "name": "stdout",
     "output_type": "stream",
     "text": [
      "Поисковых запросов, содержащих 2 слов(а): 42.86 %\n",
      "Поисковых запросов, содержащих 3 слов(а): 57.14 %\n"
     ]
    }
   ],
   "source": [
    "# считаем результат\n",
    "for key in my_dict:\n",
    "    print('Поисковых запросов, содержащих', key, 'слов(а):', round(my_dict[key]/len(my_list) * 100,2), '%')"
   ]
  },
  {
   "cell_type": "code",
   "execution_count": 53,
   "metadata": {},
   "outputs": [
    {
     "name": "stdout",
     "output_type": "stream",
     "text": [
      "Результат: \n",
      "\n",
      "Поисковых запросов, содержащих 2 слов(а): 42.86 %\n",
      "Поисковых запросов, содержащих 3 слов(а): 57.14 %\n"
     ]
    }
   ],
   "source": [
    "# это старый вариант Задания 2\n",
    "\n",
    "# a - список запросов, содержащих 2 слова\n",
    "# b - списко запросов, содержащих 3 слова\n",
    "a = []\n",
    "b = []\n",
    "for el in queries:\n",
    "    if(len(el.split())) == 2:\n",
    "        a.append(el)\n",
    "    elif(len(el.split())) == 3:\n",
    "        b.append (el)\n",
    "print('Результат: \\n')\n",
    "print('Поисковых запросов, содержащих 2 слов(а):', round(len(a)/(len(a)+len(b))*100,2),'%')\n",
    "print('Поисковых запросов, содержащих 3 слов(а):', round(len(b)/(len(a)+len(b))*100,2),'%')"
   ]
  },
  {
   "cell_type": "code",
   "execution_count": 1,
   "metadata": {},
   "outputs": [],
   "source": [
    "#Добрый! Необходимо создать список, состоящий из кол-ва слов в каждом запросе. А затем из этого списка нужно создать словарь, где: ключ - кол-во слов в запросе, и значение ключа - сколько ключей с данным кол-вом слов. Удобно делать через list и dict comprehensen. Определить сколько запросов с одинаковым кол-вом слов можно при помощи метода count. Например: list_frequency.count(number). Где list_frequency - это список с кол-вом слов в запросах, а number - это конкретный элемент этого списка"
   ]
  },
  {
   "cell_type": "markdown",
   "metadata": {},
   "source": [
    "# Задание 3"
   ]
  },
  {
   "cell_type": "code",
   "execution_count": 6,
   "metadata": {},
   "outputs": [
    {
     "name": "stdout",
     "output_type": "stream",
     "text": [
      "{'vk': {'revenue': 103, 'cost': 98, 'roi': 5.1}, 'yandex': {'revenue': 179, 'cost': 153, 'roi': 17.0}, 'facebook': {'revenue': 103, 'cost': 110, 'roi': -6.4}, 'adwords': {'revenue': 35, 'cost': 34, 'roi': 2.9}, 'twitter': {'revenue': 11, 'cost': 24, 'roi': -54.2}}\n"
     ]
    }
   ],
   "source": [
    "# только не получилось вывести элементы ответа построчно...\n",
    "\n",
    "results = {\n",
    "'vk': {'revenue': 103, 'cost': 98},\n",
    "'yandex': {'revenue': 179, 'cost': 153},\n",
    "'facebook': {'revenue': 103, 'cost': 110},\n",
    "'adwords': {'revenue': 35, 'cost': 34},\n",
    "'twitter': {'revenue': 11, 'cost': 24},\n",
    "}\n",
    "\n",
    "for n in list(results.values()):\n",
    "    n['roi'] = round((n['revenue'] / n['cost'] - 1) * 100, 1)\n",
    "print(results)"
   ]
  },
  {
   "cell_type": "markdown",
   "metadata": {},
   "source": [
    "# Задание 4"
   ]
  },
  {
   "cell_type": "code",
   "execution_count": 9,
   "metadata": {},
   "outputs": [
    {
     "name": "stdout",
     "output_type": "stream",
     "text": [
      "Результат: Максимальный объем продаж на рекламном канале:  google\n"
     ]
    }
   ],
   "source": [
    "stats = {'facebook': 70, 'yandex': 200, 'vk': 150, 'google': 209, 'email': 42, 'ok': 98}\n",
    "m = max(stats.values())\n",
    "for tuls in stats.items():\n",
    "    if m in tuls:\n",
    "        print('Результат: Максимальный объем продаж на рекламном канале: ', tuls[0])"
   ]
  },
  {
   "cell_type": "code",
   "execution_count": 68,
   "metadata": {},
   "outputs": [
    {
     "name": "stdout",
     "output_type": "stream",
     "text": [
      "Результат: Максимальный объем продаж на рекламном канале: google\n"
     ]
    }
   ],
   "source": [
    "# update\n",
    "stats = {'facebook': 70, 'yandex': 200, 'vk': 150, 'google': 209, 'email': 42, 'ok': 98}\n",
    "print('Результат: Максимальный объем продаж на рекламном канале:', max(stats, key=stats.get))"
   ]
  },
  {
   "cell_type": "code",
   "execution_count": null,
   "metadata": {},
   "outputs": [],
   "source": []
  }
 ],
 "metadata": {
  "kernelspec": {
   "display_name": "Python 3",
   "language": "python",
   "name": "python3"
  },
  "language_info": {
   "codemirror_mode": {
    "name": "ipython",
    "version": 3
   },
   "file_extension": ".py",
   "mimetype": "text/x-python",
   "name": "python",
   "nbconvert_exporter": "python",
   "pygments_lexer": "ipython3",
   "version": "3.8.5"
  }
 },
 "nbformat": 4,
 "nbformat_minor": 4
}
